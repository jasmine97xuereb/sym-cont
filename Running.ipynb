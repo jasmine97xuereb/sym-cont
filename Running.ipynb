{
 "cells": [
  {
   "cell_type": "code",
   "execution_count": 21,
   "metadata": {},
   "outputs": [],
   "source": [
    "import os \n",
    "import subprocess\n",
    "import resource # for timing the subprocess\n",
    "import numpy as np\n",
    "import pandas as pd\n",
    "import matplotlib.pyplot as plt\n",
    "import os\n",
    "import six\n",
    "import time\n",
    "import math\n",
    "\n",
    "my_env = os.environ.copy()\n",
    "my_env['DYLD_LIBRARY_PATH'] = \"/Users/jasminexuereb/.opam/4.08.0/lib/z3\" \n",
    "FNULL = open(os.devnull, 'w') # to hide console output of the subprocess"
   ]
  },
  {
   "cell_type": "code",
   "execution_count": 2,
   "metadata": {},
   "outputs": [
    {
     "data": {
      "text/html": [
       "<div>\n",
       "<style scoped>\n",
       "    .dataframe tbody tr th:only-of-type {\n",
       "        vertical-align: middle;\n",
       "    }\n",
       "\n",
       "    .dataframe tbody tr th {\n",
       "        vertical-align: top;\n",
       "    }\n",
       "\n",
       "    .dataframe thead th {\n",
       "        text-align: right;\n",
       "    }\n",
       "</style>\n",
       "<table border=\"1\" class=\"dataframe\">\n",
       "  <thead>\n",
       "    <tr style=\"text-align: right;\">\n",
       "      <th></th>\n",
       "      <th>Complexity</th>\n",
       "      <th>Choice</th>\n",
       "      <th>Recursion</th>\n",
       "      <th>NestedIFs</th>\n",
       "    </tr>\n",
       "  </thead>\n",
       "  <tbody>\n",
       "    <tr>\n",
       "      <td>0</td>\n",
       "      <td>1</td>\n",
       "      <td>0.052743</td>\n",
       "      <td>0.070272</td>\n",
       "      <td>0.036075</td>\n",
       "    </tr>\n",
       "    <tr>\n",
       "      <td>1</td>\n",
       "      <td>2</td>\n",
       "      <td>0.076650</td>\n",
       "      <td>0.116807</td>\n",
       "      <td>0.346755</td>\n",
       "    </tr>\n",
       "    <tr>\n",
       "      <td>2</td>\n",
       "      <td>3</td>\n",
       "      <td>0.104407</td>\n",
       "      <td>0.175501</td>\n",
       "      <td>1.506573</td>\n",
       "    </tr>\n",
       "    <tr>\n",
       "      <td>3</td>\n",
       "      <td>4</td>\n",
       "      <td>0.149436</td>\n",
       "      <td>0.261976</td>\n",
       "      <td>27.816222</td>\n",
       "    </tr>\n",
       "    <tr>\n",
       "      <td>4</td>\n",
       "      <td>5</td>\n",
       "      <td>0.211420</td>\n",
       "      <td>0.453507</td>\n",
       "      <td>inf</td>\n",
       "    </tr>\n",
       "    <tr>\n",
       "      <td>5</td>\n",
       "      <td>6</td>\n",
       "      <td>0.304732</td>\n",
       "      <td>0.632819</td>\n",
       "      <td>inf</td>\n",
       "    </tr>\n",
       "    <tr>\n",
       "      <td>6</td>\n",
       "      <td>7</td>\n",
       "      <td>0.507598</td>\n",
       "      <td>0.964523</td>\n",
       "      <td>inf</td>\n",
       "    </tr>\n",
       "    <tr>\n",
       "      <td>7</td>\n",
       "      <td>8</td>\n",
       "      <td>0.799831</td>\n",
       "      <td>1.623341</td>\n",
       "      <td>inf</td>\n",
       "    </tr>\n",
       "    <tr>\n",
       "      <td>8</td>\n",
       "      <td>9</td>\n",
       "      <td>1.346716</td>\n",
       "      <td>2.676438</td>\n",
       "      <td>inf</td>\n",
       "    </tr>\n",
       "    <tr>\n",
       "      <td>9</td>\n",
       "      <td>10</td>\n",
       "      <td>2.357804</td>\n",
       "      <td>4.670782</td>\n",
       "      <td>inf</td>\n",
       "    </tr>\n",
       "    <tr>\n",
       "      <td>10</td>\n",
       "      <td>11</td>\n",
       "      <td>4.344408</td>\n",
       "      <td>8.769890</td>\n",
       "      <td>inf</td>\n",
       "    </tr>\n",
       "    <tr>\n",
       "      <td>11</td>\n",
       "      <td>12</td>\n",
       "      <td>8.471705</td>\n",
       "      <td>17.628949</td>\n",
       "      <td>inf</td>\n",
       "    </tr>\n",
       "    <tr>\n",
       "      <td>12</td>\n",
       "      <td>13</td>\n",
       "      <td>17.698869</td>\n",
       "      <td>34.041052</td>\n",
       "      <td>inf</td>\n",
       "    </tr>\n",
       "    <tr>\n",
       "      <td>13</td>\n",
       "      <td>14</td>\n",
       "      <td>32.828577</td>\n",
       "      <td>67.297944</td>\n",
       "      <td>inf</td>\n",
       "    </tr>\n",
       "    <tr>\n",
       "      <td>14</td>\n",
       "      <td>15</td>\n",
       "      <td>68.000660</td>\n",
       "      <td>130.940413</td>\n",
       "      <td>inf</td>\n",
       "    </tr>\n",
       "  </tbody>\n",
       "</table>\n",
       "</div>"
      ],
      "text/plain": [
       "    Complexity     Choice   Recursion  NestedIFs\n",
       "0            1   0.052743    0.070272   0.036075\n",
       "1            2   0.076650    0.116807   0.346755\n",
       "2            3   0.104407    0.175501   1.506573\n",
       "3            4   0.149436    0.261976  27.816222\n",
       "4            5   0.211420    0.453507        inf\n",
       "5            6   0.304732    0.632819        inf\n",
       "6            7   0.507598    0.964523        inf\n",
       "7            8   0.799831    1.623341        inf\n",
       "8            9   1.346716    2.676438        inf\n",
       "9           10   2.357804    4.670782        inf\n",
       "10          11   4.344408    8.769890        inf\n",
       "11          12   8.471705   17.628949        inf\n",
       "12          13  17.698869   34.041052        inf\n",
       "13          14  32.828577   67.297944        inf\n",
       "14          15  68.000660  130.940413        inf"
      ]
     },
     "execution_count": 2,
     "metadata": {},
     "output_type": "execute_result"
    }
   ],
   "source": [
    "# initialize list of lists \n",
    "# data = [[1, 0.3286395, 0.6484685],[5, 1.940188, 4.663278999999999], [10, 27.780655, 338.726325]] \n",
    "data = pd.read_csv(\"RunningTimes.csv\")\n",
    "\n",
    "# Create the pandas DataFrame \n",
    "df = pd.DataFrame(data, columns = ['Complexity', 'Choice', 'Recursion','NestedIFs']) \n",
    "df['Complexity'] = df.index+1\n",
    "df"
   ]
  },
  {
   "cell_type": "code",
   "execution_count": 27,
   "metadata": {},
   "outputs": [],
   "source": [
    "def roundup(x):\n",
    "    return int(math.ceil(x / 10.0)) * 10"
   ]
  },
  {
   "cell_type": "code",
   "execution_count": 42,
   "metadata": {},
   "outputs": [
    {
     "data": {
      "image/png": "[encoded data removed]",
      "text/plain": [
       "<Figure size 864x216 with 3 Axes>"
      ]
     },
     "metadata": {
      "needs_background": "light"
     },
     "output_type": "display_data"
    }
   ],
   "source": [
    "# Creates three subplots and unpacks the output array immediately\n",
    "# maybe switch to grid\n",
    "f, (ax1, ax2, ax3) = plt.subplots(1, 3)\n",
    "f.set_figheight(3)\n",
    "f.set_figwidth(12)\n",
    "f.tight_layout(pad=3.0)\n",
    "\n",
    "complexity = df.replace([np.inf, -np.inf], np.nan).dropna(subset=[\"Recursion\"])\n",
    "ax1.plot(df['Complexity'], df['Recursion'], marker='o', color='g')\n",
    "ax1.set_title('Recursion')\n",
    "ax1.set_xlabel(\"Complexity\")\n",
    "ax1.set_ylabel(\"Time (s)\")\n",
    "ax1.locator_params(axis='x', nbins=10)\n",
    "ax1.set_xticks(np.arange(min(df['Complexity']), max(df['Complexity'])+1, 2))\n",
    "ax1.set_yticks(np.arange(0, roundup(max(complexity['Recursion']))+1, round((roundup(max(complexity['Recursion'])))/6)))\n",
    "\n",
    "complexity = df.replace([np.inf, -np.inf], np.nan).dropna(subset=[\"Choice\"])\n",
    "ax2.plot(df['Complexity'], df['Choice'], marker='o', color='b')\n",
    "ax2.set_title('Choice')\n",
    "ax2.set_xlabel(\"Complexity\")\n",
    "ax2.set_ylabel(\"Time (s)\")\n",
    "#specify the number of ticks on both or any single axes\n",
    "# ax2.locator_params(axis='x', nbins=10)\n",
    "ax2.set_xticks(np.arange(min(df['Complexity']), max(df['Complexity'])+1, 2))\n",
    "    \n",
    "complexity = df.replace([np.inf, -np.inf], np.nan).dropna(subset=[\"NestedIFs\"])\n",
    "ax3.plot(df['Complexity'], df['NestedIFs'], marker='o', color='r')\n",
    "ax3.set_title('Nested IFs')\n",
    "ax3.set_xlabel(\"Complexity\")\n",
    "ax3.set_ylabel(\"Time (s)\")\n",
    "ax3.set_xticks(np.arange(min(complexity['Complexity']), max(complexity['Complexity'])+1, 1))\n",
    "ax3.set_yticks(np.arange(0, roundup(max(complexity['NestedIFs']))+1, (roundup(max(complexity['NestedIFs'])))/6))\n",
    "\n",
    "f.savefig('Figure.png')"
   ]
  },
  {
   "cell_type": "code",
   "execution_count": 25,
   "metadata": {},
   "outputs": [],
   "source": []
  },
  {
   "cell_type": "code",
   "execution_count": 26,
   "metadata": {},
   "outputs": [
    {
     "data": {
      "text/plain": [
       "10"
      ]
     },
     "execution_count": 26,
     "metadata": {},
     "output_type": "execute_result"
    }
   ],
   "source": [
    "roundup(6)"
   ]
  },
  {
   "cell_type": "code",
   "execution_count": null,
   "metadata": {},
   "outputs": [],
   "source": []
  }
 ],
 "metadata": {
  "kernelspec": {
   "display_name": "Python 3",
   "language": "python",
   "name": "python3"
  },
  "language_info": {
   "codemirror_mode": {
    "name": "ipython",
    "version": 3
   },
   "file_extension": ".py",
   "mimetype": "text/x-python",
   "name": "python",
   "nbconvert_exporter": "python",
   "pygments_lexer": "ipython3",
   "version": "3.7.4"
  }
 },
 "nbformat": 4,
 "nbformat_minor": 2
}
