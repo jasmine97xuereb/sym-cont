{
 "cells": [
  {
   "cell_type": "code",
   "execution_count": 1,
   "metadata": {},
   "outputs": [],
   "source": [
    "%matplotlib inline\n",
    "import numpy as np\n",
    "import pandas as pd\n",
    "import matplotlib.pyplot as plt\n",
    "import os\n",
    "import six"
   ]
  },
  {
   "cell_type": "code",
   "execution_count": 9,
   "metadata": {},
   "outputs": [],
   "source": [
    "df2 = pd.read_csv(\"m11/result_v2.txt\",header=None)\n",
    "df3 = pd.read_csv(\"m11/result_v3.txt\",header=None)\n",
    "df4 = pd.read_csv(\"m11/result_v4.txt\",header=None)\n",
    "#result_v1 does not exist when monitor is a recursion monitor\n",
    "try:\n",
    "    df1 = pd.read_csv(\"m11/result_v1.txt\",header=None)\n",
    "    df1.columns = [\"Time\"]\n",
    "except Exception:\n",
    "    df1 = pd.DataFrame(columns=['Time'])\n",
    "\n",
    "#df1.columns = [\"Time\"]\n",
    "df2.columns = [\"Time\"]\n",
    "df3.columns = [\"Time\"]\n",
    "df4.columns = [\"Time\"]"
   ]
  },
  {
   "cell_type": "code",
   "execution_count": 10,
   "metadata": {},
   "outputs": [
    {
     "data": {
      "text/html": [
       "<div>\n",
       "<style scoped>\n",
       "    .dataframe tbody tr th:only-of-type {\n",
       "        vertical-align: middle;\n",
       "    }\n",
       "\n",
       "    .dataframe tbody tr th {\n",
       "        vertical-align: top;\n",
       "    }\n",
       "\n",
       "    .dataframe thead th {\n",
       "        text-align: right;\n",
       "    }\n",
       "</style>\n",
       "<table border=\"1\" class=\"dataframe\">\n",
       "  <thead>\n",
       "    <tr style=\"text-align: right;\">\n",
       "      <th></th>\n",
       "      <th>Time</th>\n",
       "    </tr>\n",
       "  </thead>\n",
       "  <tbody>\n",
       "    <tr>\n",
       "      <th>0</th>\n",
       "      <td>1.06</td>\n",
       "    </tr>\n",
       "    <tr>\n",
       "      <th>1</th>\n",
       "      <td>1.56</td>\n",
       "    </tr>\n",
       "    <tr>\n",
       "      <th>2</th>\n",
       "      <td>1.49</td>\n",
       "    </tr>\n",
       "    <tr>\n",
       "      <th>3</th>\n",
       "      <td>1.32</td>\n",
       "    </tr>\n",
       "    <tr>\n",
       "      <th>4</th>\n",
       "      <td>1.37</td>\n",
       "    </tr>\n",
       "    <tr>\n",
       "      <th>5</th>\n",
       "      <td>1.60</td>\n",
       "    </tr>\n",
       "    <tr>\n",
       "      <th>6</th>\n",
       "      <td>1.51</td>\n",
       "    </tr>\n",
       "    <tr>\n",
       "      <th>7</th>\n",
       "      <td>1.39</td>\n",
       "    </tr>\n",
       "    <tr>\n",
       "      <th>8</th>\n",
       "      <td>1.53</td>\n",
       "    </tr>\n",
       "    <tr>\n",
       "      <th>9</th>\n",
       "      <td>1.45</td>\n",
       "    </tr>\n",
       "  </tbody>\n",
       "</table>\n",
       "</div>"
      ],
      "text/plain": [
       "   Time\n",
       "0  1.06\n",
       "1  1.56\n",
       "2  1.49\n",
       "3  1.32\n",
       "4  1.37\n",
       "5  1.60\n",
       "6  1.51\n",
       "7  1.39\n",
       "8  1.53\n",
       "9  1.45"
      ]
     },
     "execution_count": 10,
     "metadata": {},
     "output_type": "execute_result"
    }
   ],
   "source": [
    "df2"
   ]
  },
  {
   "cell_type": "code",
   "execution_count": 11,
   "metadata": {},
   "outputs": [],
   "source": [
    "#remove outliers by removing anything which is > or < than the standard deviation (how spread data is around the mean)\n",
    "df1_clean = df1[np.abs(df1.Time - df1.Time.mean()) <= (df1.Time.std())]\n",
    "df2_clean = df2[np.abs(df2.Time - df2.Time.mean()) <= (df2.Time.std())]\n",
    "df3_clean = df3[np.abs(df3.Time - df3.Time.mean()) <= (df3.Time.std())]\n",
    "df4_clean = df4[np.abs(df4.Time - df4.Time.mean()) <= (df4.Time.std())]"
   ]
  },
  {
   "cell_type": "code",
   "execution_count": 12,
   "metadata": {},
   "outputs": [
    {
     "data": {
      "text/html": [
       "<div>\n",
       "<style scoped>\n",
       "    .dataframe tbody tr th:only-of-type {\n",
       "        vertical-align: middle;\n",
       "    }\n",
       "\n",
       "    .dataframe tbody tr th {\n",
       "        vertical-align: top;\n",
       "    }\n",
       "\n",
       "    .dataframe thead th {\n",
       "        text-align: right;\n",
       "    }\n",
       "</style>\n",
       "<table border=\"1\" class=\"dataframe\">\n",
       "  <thead>\n",
       "    <tr style=\"text-align: right;\">\n",
       "      <th></th>\n",
       "      <th>Naive</th>\n",
       "      <th>Optimised</th>\n",
       "      <th>Optimisation 1</th>\n",
       "      <th>Optimisation 2</th>\n",
       "    </tr>\n",
       "  </thead>\n",
       "  <tbody>\n",
       "    <tr>\n",
       "      <th>0</th>\n",
       "      <td>2.473333</td>\n",
       "      <td>1.4525</td>\n",
       "      <td>2.07375</td>\n",
       "      <td>1.433333</td>\n",
       "    </tr>\n",
       "  </tbody>\n",
       "</table>\n",
       "</div>"
      ],
      "text/plain": [
       "      Naive  Optimised  Optimisation 1  Optimisation 2\n",
       "0  2.473333     1.4525         2.07375        1.433333"
      ]
     },
     "execution_count": 12,
     "metadata": {},
     "output_type": "execute_result"
    }
   ],
   "source": [
    "df1_mean = df1_clean.Time.mean()\n",
    "df2_mean = df2_clean.Time.mean()\n",
    "df3_mean = df3_clean.Time.mean()\n",
    "df4_mean = df4_clean.Time.mean()\n",
    "df_result = pd.DataFrame(columns=[\"Naive\",\"Optimised\",\"Optimisation 1\",\"Optimisation 2\"])\n",
    "df_result = df_result.append({\"Naive\":df1_mean,\"Optimised\":df2_mean,\"Optimisation 1\":df3_mean,\"Optimisation 2\":df4_mean},ignore_index=True)\n",
    "df_result"
   ]
  },
  {
   "cell_type": "code",
   "execution_count": 13,
   "metadata": {},
   "outputs": [],
   "source": [
    "# if file does not exist write header \n",
    "if not os.path.isfile('results.csv'):\n",
    "    df_result.to_csv('results.csv', header='column_names',index=False)\n",
    "else: # else it exists so append without writing the header\n",
    "    df_result.to_csv('results.csv', mode='a', header=False,index=False)"
   ]
  },
  {
   "cell_type": "code",
   "execution_count": 11,
   "metadata": {},
   "outputs": [],
   "source": [
    "#From here forward is only run once all the data has been collected and appended to results.csv"
   ]
  },
  {
   "cell_type": "code",
   "execution_count": 2,
   "metadata": {},
   "outputs": [],
   "source": [
    "df_result = pd.read_csv(\"results.csv\")"
   ]
  },
  {
   "cell_type": "code",
   "execution_count": 3,
   "metadata": {},
   "outputs": [
    {
     "data": {
      "text/html": [
       "<div>\n",
       "<style scoped>\n",
       "    .dataframe tbody tr th:only-of-type {\n",
       "        vertical-align: middle;\n",
       "    }\n",
       "\n",
       "    .dataframe tbody tr th {\n",
       "        vertical-align: top;\n",
       "    }\n",
       "\n",
       "    .dataframe thead th {\n",
       "        text-align: right;\n",
       "    }\n",
       "</style>\n",
       "<table border=\"1\" class=\"dataframe\">\n",
       "  <thead>\n",
       "    <tr style=\"text-align: right;\">\n",
       "      <th></th>\n",
       "      <th>Naive</th>\n",
       "      <th>Optimised</th>\n",
       "      <th>Optimisation 1</th>\n",
       "      <th>Optimisation 2</th>\n",
       "    </tr>\n",
       "  </thead>\n",
       "  <tbody>\n",
       "    <tr>\n",
       "      <th>0</th>\n",
       "      <td>NaN</td>\n",
       "      <td>1.613333</td>\n",
       "      <td>1.656667</td>\n",
       "      <td>1.478000</td>\n",
       "    </tr>\n",
       "    <tr>\n",
       "      <th>1</th>\n",
       "      <td>0.887500</td>\n",
       "      <td>0.551250</td>\n",
       "      <td>0.641429</td>\n",
       "      <td>0.520000</td>\n",
       "    </tr>\n",
       "    <tr>\n",
       "      <th>2</th>\n",
       "      <td>NaN</td>\n",
       "      <td>0.592500</td>\n",
       "      <td>0.602857</td>\n",
       "      <td>0.545000</td>\n",
       "    </tr>\n",
       "    <tr>\n",
       "      <th>3</th>\n",
       "      <td>0.685000</td>\n",
       "      <td>0.422500</td>\n",
       "      <td>0.463750</td>\n",
       "      <td>0.433333</td>\n",
       "    </tr>\n",
       "    <tr>\n",
       "      <th>4</th>\n",
       "      <td>1.080000</td>\n",
       "      <td>0.753750</td>\n",
       "      <td>0.877143</td>\n",
       "      <td>0.701429</td>\n",
       "    </tr>\n",
       "    <tr>\n",
       "      <th>5</th>\n",
       "      <td>0.651250</td>\n",
       "      <td>0.400000</td>\n",
       "      <td>0.462857</td>\n",
       "      <td>0.400000</td>\n",
       "    </tr>\n",
       "    <tr>\n",
       "      <th>6</th>\n",
       "      <td>1.946000</td>\n",
       "      <td>1.111250</td>\n",
       "      <td>1.308333</td>\n",
       "      <td>1.227500</td>\n",
       "    </tr>\n",
       "    <tr>\n",
       "      <th>7</th>\n",
       "      <td>2.568750</td>\n",
       "      <td>1.686250</td>\n",
       "      <td>1.900000</td>\n",
       "      <td>1.671111</td>\n",
       "    </tr>\n",
       "    <tr>\n",
       "      <th>8</th>\n",
       "      <td>5.700000</td>\n",
       "      <td>3.697143</td>\n",
       "      <td>5.244000</td>\n",
       "      <td>2.795000</td>\n",
       "    </tr>\n",
       "    <tr>\n",
       "      <th>9</th>\n",
       "      <td>NaN</td>\n",
       "      <td>2.440000</td>\n",
       "      <td>2.592000</td>\n",
       "      <td>2.095000</td>\n",
       "    </tr>\n",
       "    <tr>\n",
       "      <th>10</th>\n",
       "      <td>2.473333</td>\n",
       "      <td>1.452500</td>\n",
       "      <td>2.073750</td>\n",
       "      <td>1.433333</td>\n",
       "    </tr>\n",
       "  </tbody>\n",
       "</table>\n",
       "</div>"
      ],
      "text/plain": [
       "       Naive  Optimised  Optimisation 1  Optimisation 2\n",
       "0        NaN   1.613333        1.656667        1.478000\n",
       "1   0.887500   0.551250        0.641429        0.520000\n",
       "2        NaN   0.592500        0.602857        0.545000\n",
       "3   0.685000   0.422500        0.463750        0.433333\n",
       "4   1.080000   0.753750        0.877143        0.701429\n",
       "5   0.651250   0.400000        0.462857        0.400000\n",
       "6   1.946000   1.111250        1.308333        1.227500\n",
       "7   2.568750   1.686250        1.900000        1.671111\n",
       "8   5.700000   3.697143        5.244000        2.795000\n",
       "9        NaN   2.440000        2.592000        2.095000\n",
       "10  2.473333   1.452500        2.073750        1.433333"
      ]
     },
     "execution_count": 3,
     "metadata": {},
     "output_type": "execute_result"
    }
   ],
   "source": [
    "df_result"
   ]
  },
  {
   "cell_type": "code",
   "execution_count": 4,
   "metadata": {},
   "outputs": [],
   "source": [
    "df_result = df_result.round(3)\n",
    "df_result = df_result.transpose()\n",
    "df_result.columns = ['m1','m2','m3','m4','m5','m6','m7','m8','m9','m10','m11']\n",
    "#df_result[np.isnan(df_result)]=\"NaN\""
   ]
  },
  {
   "cell_type": "code",
   "execution_count": 26,
   "metadata": {},
   "outputs": [],
   "source": [
    "df_result\n",
    "df_result.to_csv(\"results_final.csv\",float_format='%.3f',na_rep='NaN')"
   ]
  },
  {
   "cell_type": "code",
   "execution_count": null,
   "metadata": {},
   "outputs": [],
   "source": []
  },
  {
   "cell_type": "code",
   "execution_count": null,
   "metadata": {},
   "outputs": [],
   "source": []
  }
 ],
 "metadata": {
  "kernelspec": {
   "display_name": "Python 3",
   "language": "python",
   "name": "python3"
  },
  "language_info": {
   "codemirror_mode": {
    "name": "ipython",
    "version": 3
   },
   "file_extension": ".py",
   "mimetype": "text/x-python",
   "name": "python",
   "nbconvert_exporter": "python",
   "pygments_lexer": "ipython3",
   "version": "3.6.7"
  }
 },
 "nbformat": 4,
 "nbformat_minor": 2
}
